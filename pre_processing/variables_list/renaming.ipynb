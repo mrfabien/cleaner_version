{
 "cells": [
  {
   "cell_type": "code",
   "execution_count": null,
   "metadata": {},
   "outputs": [
    {
     "data": {
      "text/plain": [
       "'for year in years:\\n    for monthz in months:\\n        original_filename = f\\'e5.oper.an.sfc.128_231_ishf.ll025sc.{year}{monthz:02d}0100_{year}{monthz:02d}*\\'\\n        path = \\'/work/FAC/FGSE/IDYST/tbeucler/default/raw_data/ECMWF/ERA5/SL/surface_sensible_heat_flux\\'\\n\\n        # Regular expression to extract year and month\\n        match = re.search(r\\'(\\\\d{4})(\\\\d{2})\\', original_filename)\\n\\n        if match:\\n            year = match.group(1)  # Extract year\\n            month = match.group(2)  # Extract month\\n            \\n            # Create new filename based on the detected year and month\\n            new_filename = f\"ERA5_{year}_{monthz}_surface_sensible_heat_flux.nc\"\\n\\n            try:\\n            \\n                # Renaming the file\\n                os.rename(f\\'{path}/{original_filename}\\', f\\'{path}/{new_filename}\\')\\n            \\n                print(f\"File renamed to: {new_filename}\")\\n            except FileNotFoundError:\\n                print(f\"{year} and {month} not found in the filename.\")'"
      ]
     },
     "execution_count": 17,
     "metadata": {},
     "output_type": "execute_result"
    }
   ],
   "source": [
    "import re\n",
    "import os\n",
    "import glob\n",
    "years = range(1990, 2022)\n",
    "months = [1, 2, 3, 4, 5, 6, 7, 8, 9, 10, 11, 12]\n",
    "\n",
    "for year in years:\n",
    "    for monthz in months:\n",
    "        # Pattern to match files\n",
    "        search_pattern = f'/work/FAC/FGSE/IDYST/tbeucler/default/raw_data/ECMWF/ERA5/SL/surface_sensible_heat_flux/ERA5_{year}_{monthz}*'#e5.oper.an.sfc.128_231_ishf.ll025sc.{year}{monthz:02d}0100_{year}{monthz:02d}*'\n",
    "        \n",
    "        # Use glob to find all files that match the pattern\n",
    "        matching_files = glob.glob(search_pattern)\n",
    "        \n",
    "        for original_filepath in matching_files:\n",
    "            # Extract year and month using regular expression\n",
    "            match = re.search(r'(\\d{4})(\\d{2})', original_filepath)\n",
    "            if match:\n",
    "                extracted_year = match.group(1)  # Extract year\n",
    "                extracted_month = match.group(2)  # Extract month\n",
    "                \n",
    "                # Create new filename\n",
    "                new_filename = f\"ERA5_{extracted_year}_{monthz:02d}_surface_sensible_heat_flux.nc\"\n",
    "                new_filepath = os.path.join(os.path.dirname(original_filepath), new_filename)\n",
    "                \n",
    "                try:\n",
    "                    # Rename the file\n",
    "                    os.rename(original_filepath, new_filepath)\n",
    "                    print(f\"File renamed to: {new_filename}\")\n",
    "                except FileNotFoundError:\n",
    "                    print(f\"File not found: {original_filepath}\")\n",
    "                except Exception as e:\n",
    "                    print(f\"Error renaming file {original_filepath}: {e}\")\n",
    "\n",
    "'''for year in years:\n",
    "    for monthz in months:\n",
    "        original_filename = f'e5.oper.an.sfc.128_231_ishf.ll025sc.{year}{monthz:02d}0100_{year}{monthz:02d}*'\n",
    "        path = '/work/FAC/FGSE/IDYST/tbeucler/default/raw_data/ECMWF/ERA5/SL/surface_sensible_heat_flux'\n",
    "\n",
    "        # Regular expression to extract year and month\n",
    "        match = re.search(r'(\\d{4})(\\d{2})', original_filename)\n",
    "\n",
    "        if match:\n",
    "            year = match.group(1)  # Extract year\n",
    "            month = match.group(2)  # Extract month\n",
    "            \n",
    "            # Create new filename based on the detected year and month\n",
    "            new_filename = f\"ERA5_{year}_{monthz}_surface_sensible_heat_flux.nc\"\n",
    "\n",
    "            try:\n",
    "            \n",
    "                # Renaming the file\n",
    "                os.rename(f'{path}/{original_filename}', f'{path}/{new_filename}')\n",
    "            \n",
    "                print(f\"File renamed to: {new_filename}\")\n",
    "            except FileNotFoundError:\n",
    "                print(f\"{year} and {month} not found in the filename.\")'''\n"
   ]
  },
  {
   "cell_type": "code",
   "execution_count": 27,
   "metadata": {},
   "outputs": [
    {
     "name": "stdout",
     "output_type": "stream",
     "text": [
      "Renamed: ERA5_1994-12_sea_surface_temperature.nc -> ERA5_1994_12_sea_surface_temperature.nc\n",
      "Renamed: ERA5_1994-1_sea_surface_temperature.nc -> ERA5_1994_01_sea_surface_temperature.nc\n",
      "Renamed: ERA5_1992-3_sea_surface_temperature.nc -> ERA5_1992_03_sea_surface_temperature.nc\n",
      "Renamed: ERA5_1992-12_sea_surface_temperature.nc -> ERA5_1992_12_sea_surface_temperature.nc\n",
      "Renamed: ERA5_1993-1_sea_surface_temperature.nc -> ERA5_1993_01_sea_surface_temperature.nc\n",
      "Renamed: ERA5_1991-2_sea_surface_temperature.nc -> ERA5_1991_02_sea_surface_temperature.nc\n",
      "Renamed: ERA5_1990-11_sea_surface_temperature.nc -> ERA5_1990_11_sea_surface_temperature.nc\n",
      "Renamed: ERA5_1990-12_sea_surface_temperature.nc -> ERA5_1990_12_sea_surface_temperature.nc\n",
      "Renamed: ERA5_1991-12_sea_surface_temperature.nc -> ERA5_1991_12_sea_surface_temperature.nc\n",
      "Renamed: ERA5_1992-11_sea_surface_temperature.nc -> ERA5_1992_11_sea_surface_temperature.nc\n",
      "Renamed: ERA5_1990-1_sea_surface_temperature.nc -> ERA5_1990_01_sea_surface_temperature.nc\n",
      "Renamed: ERA5_1994-3_sea_surface_temperature.nc -> ERA5_1994_03_sea_surface_temperature.nc\n",
      "Renamed: ERA5_1993-2_sea_surface_temperature.nc -> ERA5_1993_02_sea_surface_temperature.nc\n",
      "Renamed: ERA5_1991-10_sea_surface_temperature.nc -> ERA5_1991_10_sea_surface_temperature.nc\n",
      "Renamed: ERA5_1994-10_sea_surface_temperature.nc -> ERA5_1994_10_sea_surface_temperature.nc\n",
      "Renamed: ERA5_1990-10_sea_surface_temperature.nc -> ERA5_1990_10_sea_surface_temperature.nc\n",
      "Renamed: ERA5_1992-10_sea_surface_temperature.nc -> ERA5_1992_10_sea_surface_temperature.nc\n",
      "Renamed: ERA5_1992-1_sea_surface_temperature.nc -> ERA5_1992_01_sea_surface_temperature.nc\n",
      "Renamed: ERA5_1990-2_sea_surface_temperature.nc -> ERA5_1990_02_sea_surface_temperature.nc\n",
      "Renamed: ERA5_1992-2_sea_surface_temperature.nc -> ERA5_1992_02_sea_surface_temperature.nc\n",
      "Renamed: ERA5_1994-11_sea_surface_temperature.nc -> ERA5_1994_11_sea_surface_temperature.nc\n",
      "Renamed: ERA5_1990-3_sea_surface_temperature.nc -> ERA5_1990_03_sea_surface_temperature.nc\n",
      "Renamed: ERA5_1991-3_sea_surface_temperature.nc -> ERA5_1991_03_sea_surface_temperature.nc\n",
      "Renamed: ERA5_1993-10_sea_surface_temperature.nc -> ERA5_1993_10_sea_surface_temperature.nc\n",
      "Renamed: ERA5_1991-1_sea_surface_temperature.nc -> ERA5_1991_01_sea_surface_temperature.nc\n",
      "Renamed: ERA5_1993-12_sea_surface_temperature.nc -> ERA5_1993_12_sea_surface_temperature.nc\n",
      "Renamed: ERA5_1994-2_sea_surface_temperature.nc -> ERA5_1994_02_sea_surface_temperature.nc\n",
      "Renamed: ERA5_1993-3_sea_surface_temperature.nc -> ERA5_1993_03_sea_surface_temperature.nc\n",
      "Renamed: ERA5_1993-11_sea_surface_temperature.nc -> ERA5_1993_11_sea_surface_temperature.nc\n",
      "Renamed: ERA5_1991-11_sea_surface_temperature.nc -> ERA5_1991_11_sea_surface_temperature.nc\n"
     ]
    }
   ],
   "source": [
    "import os\n",
    "import re\n",
    "\n",
    "var = 'sea_surface_temperature'\n",
    "\n",
    "# Define the directory containing the files\n",
    "directory = f'/work/FAC/FGSE/IDYST/tbeucler/default/raw_data/ECMWF/ERA5/SL/{var}'\n",
    "\n",
    "# Iterate through all files in the directory\n",
    "for filename in os.listdir(directory):\n",
    "    # Match files that are already close to the desired format\n",
    "    match = re.match(r'ERA5_(\\d{4})[-_](\\d{1,2})_sea_surface_temperature.nc', filename)\n",
    "    \n",
    "    if match:\n",
    "        year = match.group(1)  # Extract year\n",
    "        month = int(match.group(2))  # Extract month (convert to integer for zero-padding)\n",
    "        \n",
    "        # Create the correctly formatted filename\n",
    "        corrected_filename = f\"ERA5_{year}_{month:02d}_{var}\"\n",
    "        \n",
    "        # Add the file extension if it exists\n",
    "        if '.' in filename:\n",
    "            ext = filename.split('.')[-1]\n",
    "            corrected_filename = f\"{corrected_filename}.{ext}\"\n",
    "        \n",
    "        # Full paths for renaming\n",
    "        original_path = os.path.join(directory, filename)\n",
    "        corrected_path = os.path.join(directory, corrected_filename)\n",
    "        \n",
    "        # Rename the file if necessary\n",
    "        if original_path != corrected_path:\n",
    "            os.rename(original_path, corrected_path)\n",
    "            print(f\"Renamed: {filename} -> {corrected_filename}\")\n"
   ]
  }
 ],
 "metadata": {
  "kernelspec": {
   "display_name": "Python 3 (ipykernel)",
   "language": "python",
   "name": "python3"
  },
  "language_info": {
   "codemirror_mode": {
    "name": "ipython",
    "version": 3
   },
   "file_extension": ".py",
   "mimetype": "text/x-python",
   "name": "python",
   "nbconvert_exporter": "python",
   "pygments_lexer": "ipython3",
   "version": "3.10.15"
  }
 },
 "nbformat": 4,
 "nbformat_minor": 2
}
